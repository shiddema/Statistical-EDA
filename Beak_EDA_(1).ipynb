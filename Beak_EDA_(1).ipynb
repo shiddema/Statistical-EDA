{
  "nbformat": 4,
  "nbformat_minor": 0,
  "metadata": {
    "kernelspec": {
      "display_name": "Python 3",
      "language": "python",
      "name": "python3"
    },
    "language_info": {
      "codemirror_mode": {
        "name": "ipython",
        "version": 3
      },
      "file_extension": ".py",
      "mimetype": "text/x-python",
      "name": "python",
      "nbconvert_exporter": "python",
      "pygments_lexer": "ipython3",
      "version": "3.8.3"
    },
    "colab": {
      "name": "Beak_EDA (1).ipynb",
      "provenance": [],
      "collapsed_sections": [
        "x7xxryS6wfvd",
        "biYrLIJXwQFi"
      ],
      "include_colab_link": true
    }
  },
  "cells": [
    {
      "cell_type": "markdown",
      "metadata": {
        "id": "view-in-github",
        "colab_type": "text"
      },
      "source": [
        "<a href=\"https://colab.research.google.com/github/shiddema/Statistical-EDA/blob/main/Beak_EDA_(1).ipynb\" target=\"_parent\"><img src=\"https://colab.research.google.com/assets/colab-badge.svg\" alt=\"Open In Colab\"/></a>"
      ]
    },
    {
      "cell_type": "markdown",
      "metadata": {
        "id": "pZmIjr7EQyMP"
      },
      "source": [
        "# Statistical EDA: 40 Years of Evolution \r\n",
        "\r\n",
        "This project will look into the data behind the book, \"40 years of Evolution\" by Peter & Rosemary Grant. These two scientist took extensive samples and measurements from the Galápagos Islands over a 40 year period. Their findings are regularly used as a study in adapative evolution in finches. \r\n",
        "\r\n",
        "There are two finches in particular that we will be looking at: the Fortis and the Scandens. Pictured below. \r\n",
        "\r\n",
        "<img src=\"https://imgbb.com/b6FZN9H\" alt=\"Picture of Fortis and Scandens\">\r\n",
        "\r\n",
        "What they noticed is that over the decades their beak measurements changed. They observed a drought that affected the size of the seeds available on the island. The general conclusion is that the drought caused the need for the birds to evolve to meet the new food supply. We will be answering if this change took place, and how it happened. The Grants took many measurements, for our purposes we will limit our analysis to just a handful of attributes. The most important two to understand are beak depth and beak length. \r\n",
        "\r\n",
        "<img src=\"http://bebi103.caltech.edu.s3-website-us-east-1.amazonaws.com/2019a/content/_images/finch_beak_diagram.png\" alt=\"Picture of Finch Beaks\">\r\n",
        "\r\n",
        "This notebook is long. Longer than it technically needs to be. There are many packages and functions in Python that can be used to condense this work. However, I am using this as an opportunity to look behind the curtain and renforce my own learning in Satitics. I think its important that we don't forget the underlying math and statistical thinking in a rush to implement the latest ML model. To that end the only packages imported are numpy and matplotlib. \r\n",
        "\r\n",
        "I am a big fan of this project. It is an interesting dataset. I hope you enjoy, but I hope you learn something. \r\n",
        "\r\n",
        "\r\n",
        "Notes:\r\n",
        "\r\n",
        "1. The data for the Grants book can be found at: https://datadryad.org/stash/dataset/doi:10.5061/dryad.g6g3h\r\n",
        "2. I have to thank Justin Bois a Teaching Professor at the California Institute of Technology. I learned more about satistics in his class than anywhere else. He is the one that inspired the interest in this dataset. Some of the functions in this notebook were either copied or inspired by his work. \r\n",
        "3. The datasets are fragmented. This project is not about pandas or data manipulation so I did not want that to be the focus. If you want to see that I am sure I have another post detailing that. I think its an important skill. However, here I have simply created numpy arrays with the necessary information. \r\n"
      ]
    },
    {
      "cell_type": "code",
      "metadata": {
        "id": "_cjrQkm5nLDm"
      },
      "source": [
        "import numpy as np\n",
        "import matplotlib.pyplot as plt\n",
        "%matplotlib inline"
      ],
      "execution_count": null,
      "outputs": []
    },
    {
      "cell_type": "markdown",
      "metadata": {
        "id": "eLPlNBc2nLDp"
      },
      "source": [
        "I have pulled only the 1975 and 2012 data. It was the easiest to access and it's all we need for our purposes. 'bd' stands for beak depth and 'bl' beak length. "
      ]
    },
    {
      "cell_type": "markdown",
      "metadata": {
        "id": "x7xxryS6wfvd"
      },
      "source": [
        "##### Beak depth and length arrays"
      ]
    },
    {
      "cell_type": "code",
      "metadata": {
        "id": "Mw-FGQyunLDq"
      },
      "source": [
        "bd_1975 = np.array([ 8.4 ,  8.8 ,  8.4 ,  8.  ,  7.9 ,  8.9 ,  8.6 ,  8.5 ,  8.9 , 9.1 ,  8.6 ,  9.8 ,  8.2 ,  9.  ,  9.7 ,  8.6 ,  8.2 ,  9.  , 8.4 ,  8.6 ,  8.9 ,  9.1 ,  8.3 ,  8.7 ,  9.6 ,  8.5 ,  9.1 , 9.  ,  9.2 ,  9.9 ,  8.6 ,  9.2 ,  8.4 ,  8.9 ,  8.5 , 10.4 ,\n",
        "        9.6 ,  9.1 ,  9.3 ,  9.3 ,  8.8 ,  8.3 ,  8.8 ,  9.1 , 10.1 , 8.9 ,  9.2 ,  8.5 , 10.2 , 10.1 ,  9.2 ,  9.7 ,  9.1 ,  8.5 , 8.2 ,  9.  ,  9.3 ,  8.  ,  9.1 ,  8.1 ,  8.3 ,  8.7 ,  8.8 , 8.6 ,  8.7 ,  8.  ,  8.8 ,  9.  ,  9.1 ,  9.74,  9.1 ,  9.8 ,\n",
        "       10.4 ,  8.3 ,  9.44,  9.04,  9.  ,  9.05,  9.65,  9.45,  8.65, 9.45,  9.45,  9.05,  8.75,  9.45,  8.35])\n",
        "\n",
        "bd_2012 = np.array([ 9.4 ,  8.9 ,  9.5 , 11.  ,  8.7 ,  8.4 ,  9.1 ,  8.7 , 10.2 , 9.6 ,  8.85,  8.8 ,  9.5 ,  9.2 ,  9.  ,  9.8 ,  9.3 ,  9.  , 10.2 ,  7.7 ,  9.  ,  9.5 ,  9.4 ,  8.  ,  8.9 ,  9.4 ,  9.5 , 8.  , 10.  ,  8.95,  8.2 ,  8.8 ,  9.2 ,  9.4 ,  9.5 ,  8.1 ,\n",
        "        9.5 ,  8.4 ,  9.3 ,  9.3 ,  9.6 ,  9.2 , 10.  ,  8.9 , 10.5 , 8.9 ,  8.6 ,  8.8 ,  9.15,  9.5 ,  9.1 , 10.2 ,  8.4 , 10.  , 10.2 ,  9.3 , 10.8 ,  8.3 ,  7.8 ,  9.8 ,  7.9 ,  8.9 ,  7.7 , 8.9 ,  9.4 ,  9.4 ,  8.5 ,  8.5 ,  9.6 , 10.2 ,  8.8 ,  9.5 , 9.3 ,  9.  ,  9.2 ,  8.7 ,  9.  ,  9.1 ,  8.7 ,  9.4 ,  9.8 ,\n",
        "        8.6 , 10.6 ,  9.  ,  9.5 ,  8.1 ,  9.3 ,  9.6 ,  8.5 ,  8.2 , 8.  ,  9.5 ,  9.7 ,  9.9 ,  9.1 ,  9.5 ,  9.8 ,  8.4 ,  8.3 , 9.6 ,  9.4 , 10.  ,  8.9 ,  9.1 ,  9.8 ,  9.3 ,  9.9 ,  8.9 , 8.5 , 10.6 ,  9.3 ,  8.9 ,  8.9 ,  9.7 ,  9.8 , 10.5 ,  8.4 , 10.  ,  9.  ,  8.7 ,  8.8 ,  8.4 ,  9.3 ,  9.8 ,  8.9 ,  9.8 , 9.1 ])"
      ],
      "execution_count": null,
      "outputs": []
    },
    {
      "cell_type": "code",
      "metadata": {
        "id": "sgJHWtnsnLDr"
      },
      "source": [
        "bl_1975 = np.array([13.9 , 14.  , 12.9 , 13.5 , 12.9 , 14.6 , 13.  , 14.2 , 14.  , 14.2 , 13.1 , 15.1 , 13.5 , 14.4 , 14.9 , 12.9 , 13.  , 14.9 , 14.  , 13.8 , 13.  , 14.75, 13.7 , 13.8 , 14.  , 14.6 , 15.2 , 13.5 , 15.1 , 15.  , 12.8 , 14.9 , 15.3 , 13.4 , 14.2 , 15.1 , 15.1 , 14.  , 13.6 , 14.  , 14.  , 13.9 , 14.  , 14.9 , 15.6 ,\n",
        "       13.8 , 14.4 , 12.8 , 14.2 , 13.4 , 14.  , 14.8 , 14.2 , 13.5 , 13.4 , 14.6 , 13.5 , 13.7 , 13.9 , 13.1 , 13.4 , 13.8 , 13.6 , 14.  , 13.5 , 12.8 , 14.  , 13.4 , 14.9 , 15.54, 14.63, 14.73, 15.73, 14.83, 15.94, 15.14, 14.23, 14.15, 14.35, 14.95, 13.95, 14.05, 14.55, 14.05, 14.45, 15.05, 13.25])\n",
        "\n",
        "bl_2012 = np.array([14.3 , 12.5 , 13.7 , 13.8 , 12.  , 13.  , 13.  , 13.6 , 12.8 , 13.6 , 12.95, 13.1 , 13.4 , 13.9 , 12.3 , 14.  , 12.5 , 12.3 , 13.9 , 13.1 , 12.5 , 13.9 , 13.7 , 12.  , 14.4 , 13.5 , 13.8 , 13.  , 14.9 , 12.5 , 12.3 , 12.8 , 13.4 , 13.8 , 13.5 , 13.5 , 13.4 , 12.3 , 14.35, 13.2 , 13.8 , 14.6 , 14.3 , 13.8 , 13.6 ,\n",
        "       12.9 , 13.  , 13.5 , 13.2 , 13.7 , 13.1 , 13.2 , 12.6 , 13.  , 13.9 , 13.2 , 15.  , 13.37, 11.4 , 13.8 , 13.  , 13.  , 13.1 , 12.8 , 13.3 , 13.5 , 12.4 , 13.1 , 14.  , 13.5 , 11.8 , 13.7 , 13.2 , 12.2 , 13.  , 13.1 , 14.7 , 13.7 , 13.5 , 13.3 , 14.1 , 12.5 , 13.7 , 14.6 , 14.1 , 12.9 , 13.9 , 13.4 , 13.  , 12.7 ,\n",
        "       12.1 , 14.  , 14.9 , 13.9 , 12.9 , 14.6 , 14.  , 13.  , 12.7 , 14.  , 14.1 , 14.1 , 13.  , 13.5 , 13.4 , 13.9 , 13.1 , 12.9 , 14.  , 14.  , 14.1 , 14.7 , 13.4 , 13.8 , 13.4 , 13.8 , 12.4 , 14.1 , 12.9 , 13.9 , 14.3 , 13.2 , 14.2 , 13.  , 14.6 , 13.1 , 15.2 ])"
      ],
      "execution_count": null,
      "outputs": []
    },
    {
      "cell_type": "markdown",
      "metadata": {
        "id": "9RdU4bafnLDs"
      },
      "source": [
        "I will be using the empirical cumulative Distribution Function of ECDF. ECDF is a fantastic statistical analysis tool, similar to the CDF.  \n",
        "To learn more, check out [this video](https://www.youtube.com/watch?v=_2VDsKU-7SU)\n",
        "\n",
        "We are going to use the ECDF to visually compare beak depths measured in 1975 and 2012. \n",
        "### Visual Analysis of Beak Depth"
      ]
    },
    {
      "cell_type": "code",
      "metadata": {
        "id": "Lrx80jRznLDt"
      },
      "source": [
        "def ecdf(data):\n",
        "\n",
        "    n = len(data)\n",
        "    x = np.sort(data)\n",
        "    y = np.arange(1, n+1) / n\n",
        "\n",
        "    return x, y"
      ],
      "execution_count": null,
      "outputs": []
    },
    {
      "cell_type": "code",
      "metadata": {
        "colab": {
          "base_uri": "https://localhost:8080/",
          "height": 279
        },
        "id": "p3h54GH4nLDu",
        "outputId": "6beb025f-322f-4592-89a2-0365dd34dfc2"
      },
      "source": [
        "# Compute ECDFs\n",
        "x_1975, y_1975 = ecdf(bd_1975)\n",
        "x_2012, y_2012 = ecdf(bd_2012)\n",
        "\n",
        "# Plot the ECDFs\n",
        "plt.plot(x_1975, y_1975, marker='.', linestyle='none')\n",
        "plt.plot(x_2012, y_2012, marker='.', linestyle='none')\n",
        "\n",
        "# labels\n",
        "plt.margins(0.02)\n",
        "plt.xlabel('beak depth (mm)')\n",
        "plt.ylabel('ECDF')\n",
        "plt.legend(('1975', '2012'), loc='lower right')\n",
        "\n",
        "# Show the plot\n",
        "plt.show()"
      ],
      "execution_count": null,
      "outputs": [
        {
          "output_type": "display_data",
          "data": {
            "image/png": "[encoded data removed]",
            "text/plain": [
              "<Figure size 432x288 with 1 Axes>"
            ]
          },
          "metadata": {
            "tags": [],
            "needs_background": "light"
          }
        }
      ]
    },
    {
      "cell_type": "markdown",
      "metadata": {
        "id": "hqvOpW1LnLDu"
      },
      "source": [
        "We can clearly see that there is a change over time. But how much? Next we will bootstrap a bunch of samples. This is called hacker statistics. It is using the power of python and computing in general to take a single dataset and amplify it. At the end of these steps we will have a p-value to determine if there is a statistical significant difference between the 1975 and 2012 measurements. \n",
        " \n",
        "We are looking to prove of disprove our **null hypothesis: there is no statistically significant difference in beak depth between 1975 and 2012**"
      ]
    },
    {
      "cell_type": "code",
      "metadata": {
        "id": "m2Ma6SgqnLDv"
      },
      "source": [
        "def bootstrap_replicate_1d(data, func):\n",
        "    sample = np.random.choice(data, len(data))\n",
        "    return func(sample)\n",
        "\n",
        "\n",
        "def bs_reps(data, func, size=1):\n",
        "\n",
        "    # array of replicates\n",
        "    replicates = np.empty(size)\n",
        "\n",
        "    # Generate replicates\n",
        "    for i in range(size):\n",
        "        replicates[i] = bootstrap_replicate_1d(data, func)\n",
        "\n",
        "    return replicates"
      ],
      "execution_count": null,
      "outputs": []
    },
    {
      "cell_type": "code",
      "metadata": {
        "colab": {
          "base_uri": "https://localhost:8080/"
        },
        "id": "VPR_fqvHnLDv",
        "outputId": "79349de2-f522-4663-e20e-6cacef977ca4"
      },
      "source": [
        "# the difference of the sample means\n",
        "mean_diff = np.mean(bd_2012) - np.mean(bd_1975)\n",
        "\n",
        "# bootstrap replicates of means\n",
        "replicates_1975 = bs_reps(bd_1975, np.mean, size=10000)\n",
        "replicates_2012 = bs_reps(bd_2012, np.mean, size=10000)\n",
        "\n",
        "# Compute samples of difference of means: bs_diff_replicates\n",
        "diff_replicates = replicates_2012 - replicates_1975\n",
        "\n",
        "# Compute 95% confidence interval: conf_int\n",
        "conf_int = np.percentile(diff_replicates, [2.5, 97.5])\n",
        "\n",
        "# Print the results\n",
        "print('difference of means =', mean_diff, 'mm')\n",
        "print('95% confidence interval =', conf_int, 'mm')"
      ],
      "execution_count": null,
      "outputs": [
        {
          "output_type": "stream",
          "text": [
            "difference of means = 0.22622047244094645 mm\n",
            "95% confidence interval = [0.06275493 0.39369705] mm\n"
          ],
          "name": "stdout"
        }
      ]
    },
    {
      "cell_type": "markdown",
      "metadata": {
        "id": "UeMczmMAnLDw"
      },
      "source": [
        "Lets pause here for just a second. \n",
        "\n",
        "We have replicated 10000 more datasets of both 1975 and 2012. How cool is that! Then we have found the means of 2012 and 1975 and come up with the mean. Simple, right? It really is! We just have done it with way more numbers than we have ever done by hand. \n",
        "\n",
        "We are halfway to getting the p-value. But if we stop and think about it we will realize that we already know the answer. .2mm doesn't sound like a lot. But given that these are finches and their beaks are in the range of 9mm it is! \n",
        "\n"
      ]
    },
    {
      "cell_type": "code",
      "metadata": {
        "colab": {
          "base_uri": "https://localhost:8080/"
        },
        "id": "PbWcpIrpnLDx",
        "outputId": "04ddd149-05a1-430a-9bbb-c54dcf8f503e"
      },
      "source": [
        "# mean of combined data set\n",
        "combined_mean = np.mean(np.concatenate((bd_1975, bd_2012)))\n",
        "\n",
        "# Shift the samples\n",
        "bd_1975_shifted = bd_1975 - np.mean(bd_1975) + combined_mean\n",
        "bd_2012_shifted = bd_2012 - np.mean(bd_2012) + combined_mean\n",
        "\n",
        "# Get bootstrap replicates of shifted data sets\n",
        "replicates_1975 = bs_reps(bd_1975_shifted, np.mean, size=10000)\n",
        "replicates_2012 = bs_reps(bd_2012_shifted, np.mean, size=10000)\n",
        "\n",
        "# Compute replicates of difference of means: bs_diff_replicates\n",
        "diff_replicates = replicates_2012 - replicates_1975\n",
        "\n",
        "# Compute the p-value\n",
        "p = np.sum(diff_replicates >= mean_diff) / len(diff_replicates)\n",
        "\n",
        "# Print p-value\n",
        "print('p =', p)"
      ],
      "execution_count": null,
      "outputs": [
        {
          "output_type": "stream",
          "text": [
            "p = 0.0037\n"
          ],
          "name": "stdout"
        }
      ]
    },
    {
      "cell_type": "markdown",
      "metadata": {
        "id": "75QSLtArnLDy"
      },
      "source": [
        "A p-value of 0.0037 is low. We can say there is a statistically significant difference between the 1975 measurements and the 2012 measurements. And to put it in perspective a p-value of 0.025 is considered passable. \n",
        " \n",
        "This is a good first step. And there has been a fair bit of numbers without much visualization. Lets see how this looks. \n"
      ]
    },
    {
      "cell_type": "code",
      "metadata": {
        "colab": {
          "base_uri": "https://localhost:8080/",
          "height": 279
        },
        "id": "R9y-RYV1nLDz",
        "outputId": "30c5da13-807a-4401-f983-146054aa7b74"
      },
      "source": [
        "#  1975 data\n",
        "plt.plot(bl_1975, bd_1975, marker='.', linestyle='None', color='blue', alpha=0.5)\n",
        "\n",
        "# 2012 data\n",
        "plt.plot(bl_2012, bd_2012, marker='.', linestyle='None', color='red', alpha=0.5)\n",
        "\n",
        "# Labels & legend\n",
        "plt.xlabel('beak length (mm)')\n",
        "plt.ylabel('beak depth (mm)')\n",
        "plt.legend(('1975', '2012'), loc='upper left')\n",
        "\n",
        "plt.show()"
      ],
      "execution_count": null,
      "outputs": [
        {
          "output_type": "display_data",
          "data": {
            "image/png": "[encoded data removed]",
            "text/plain": [
              "<Figure size 432x288 with 1 Axes>"
            ]
          },
          "metadata": {
            "tags": [],
            "needs_background": "light"
          }
        }
      ]
    },
    {
      "cell_type": "markdown",
      "metadata": {
        "id": "haUarcfXnLDz"
      },
      "source": [
        "So, looking at this plot we can see that beaks have gotten deeper, and shorter. You can see this because the red dots are higher on the y-axis and lower on the x-axis. So there it is not just that their beaks became deeper over time but the ratio of beak length to beak depth is altered. Visually the Grants probably were able to see the change in shape. \n",
        " \n",
        "Again we are using the visual to set up a hypothesis and now we will use some hacker statistics to prove or disprove it. In the last step we compared 1D-arrays. This time we want to see if the shape of the beak is changing. This requires additional functions. \n",
        " \n",
        "Linear Regression is one of the most common ways to compare the relationship between two variables. We are taking two variables and modeling a line that fits the data. There are lots of tools to do this. In this case we will write a function for bootstrapping for linear regression. We are then going to bootstrap our way to 1,000 iterations of the data. And then we will plot the data to visually analyze it again. \n",
        " \n",
        "### Null Hypothesis: There is no statistically significant change in the shape of the beak\n",
        " "
      ]
    },
    {
      "cell_type": "code",
      "metadata": {
        "id": "faa4Nxp8nLD0"
      },
      "source": [
        "def bs_pairs_linreg(x, y, size=1):\n",
        "\n",
        "    # array of indices to sample from\n",
        "    inds = np.arange(len(x))\n",
        "\n",
        "    # replicates: bs_slope_reps, bs_intercept_reps\n",
        "    bs_slope_reps = np.empty(size)\n",
        "    bs_intercept_reps = np.empty(size)\n",
        "\n",
        "    # Generate replicates\n",
        "    for i in range(size):\n",
        "        bs_inds = np.random.choice(inds, size=len(x))\n",
        "        bs_x, bs_y = x[bs_inds], y[bs_inds]\n",
        "        bs_slope_reps[i], bs_intercept_reps[i] = np.polyfit(bs_x, bs_y, 1)\n",
        "\n",
        "    return bs_slope_reps, bs_intercept_reps"
      ],
      "execution_count": null,
      "outputs": []
    },
    {
      "cell_type": "code",
      "metadata": {
        "colab": {
          "base_uri": "https://localhost:8080/"
        },
        "id": "w4NwyuzRnLD1",
        "outputId": "215d773a-5d7a-4d73-a330-88c7a070642d"
      },
      "source": [
        "# linear regressions\n",
        "slope_1975, intercept_1975 = np.polyfit(bl_1975, bd_1975,1)\n",
        "slope_2012, intercept_2012 = np.polyfit(bl_2012, bd_2012,1)\n",
        "\n",
        "# pairs bootstrap for the linear regressions\n",
        "slope_reps_1975, intercept_reps_1975 = bs_pairs_linreg(bl_1975, bd_1975, size=1000)\n",
        "slope_reps_2012, intercept_reps_2012 = bs_pairs_linreg(bl_2012, bd_2012, size=1000)\n",
        "\n",
        "# confidence intervals of slopes\n",
        "slope_conf_int_1975 = np.percentile(slope_reps_1975, [2.5,97.5])\n",
        "slope_conf_int_2012 = np.percentile(slope_reps_2012, [2.5,97.5])\n",
        "intercept_conf_int_1975 = np.percentile(intercept_reps_1975, [2.5,97.5])\n",
        "\n",
        "intercept_conf_int_2012 = np.percentile(intercept_reps_2012, [2.5,97.5])\n",
        "\n",
        "# results\n",
        "print('1975: slope =', slope_1975,\n",
        "      'conf int =', slope_conf_int_1975)\n",
        "print('1975: intercept =', intercept_1975,\n",
        "      'conf int =', intercept_conf_int_1975)\n",
        "print('2012: slope =', slope_2012,\n",
        "      'conf int =', slope_conf_int_2012)\n",
        "print('2012: intercept =', intercept_2012,\n",
        "      'conf int =', intercept_conf_int_2012)"
      ],
      "execution_count": null,
      "outputs": [
        {
          "output_type": "stream",
          "text": [
            "1975: slope = 0.4652051691605937 conf int = [0.3285243  0.59231465]\n",
            "1975: intercept = 2.3908752365842263 conf int = [0.62594898 4.27427176]\n",
            "2012: slope = 0.462630358835313 conf int = [0.32433885 0.59271018]\n",
            "2012: intercept = 2.9772474982360198 conf int = [1.23854495 4.80494843]\n"
          ],
          "name": "stdout"
        }
      ]
    },
    {
      "cell_type": "code",
      "metadata": {
        "colab": {
          "base_uri": "https://localhost:8080/",
          "height": 279
        },
        "id": "Ksrk-3XdnLD1",
        "outputId": "3b54f728-3060-4310-95a0-bbb1ebf0f0e7"
      },
      "source": [
        "# scatter plot of 1975 data\n",
        "plt.plot(bl_1975, bd_1975, marker='.', linestyle='none', color='blue', alpha=0.5)\n",
        "\n",
        "# scatter plot of 2012 data\n",
        "plt.plot(bl_2012, bd_2012, marker='.', linestyle='none', color='red', alpha=0.5)\n",
        "\n",
        "# axes and legend\n",
        "plt.xlabel('beak length (mm)')\n",
        "plt.ylabel('beak depth (mm)')\n",
        "plt.legend(('1975', '2012'), loc='best')\n",
        "\n",
        "# x-values for bootstrap lines\n",
        "x = np.array([10, 17])\n",
        "\n",
        "# bootstrap lines\n",
        "for i in range(100):\n",
        "    plt.plot(x, slope_reps_1975[i] * x + intercept_reps_1975[i], linewidth=0.5, alpha=0.2, color='blue')\n",
        "    plt.plot(x, slope_reps_2012[i] * x + intercept_reps_2012[i], linewidth=0.5, alpha=0.2, color='red')\n",
        "\n",
        "# Draw the plot again\n",
        "plt.show()"
      ],
      "execution_count": null,
      "outputs": [
        {
          "output_type": "display_data",
          "data": {
            "image/png": "[encoded data removed]",
            "text/plain": [
              "<Figure size 432x288 with 1 Axes>"
            ]
          },
          "metadata": {
            "tags": [],
            "needs_background": "light"
          }
        }
      ]
    },
    {
      "cell_type": "markdown",
      "metadata": {
        "id": "K1Wy6tWlnLD1"
      },
      "source": [
        "Ok. We are halfway to answering our Null Hypothesis. And we have a couple of interesting observations to make. First, linear regression was a good call for this question and data. We can clearly see the correlation. Second, looking at the overlapping confidence intervals and the overlapping bootstrapped lines on the plot, we cannot say there is any significant change. This is really a limitation of the grouping of the data. If you look at the approximate median of the plot, the regression lines converge. This makes sense. This is where we have the most data points and our regression lines are seeking the best fit given that data. So if we were to use linear regression to predict an additional data point it would have the best fit in this range. This concept is called the **Domain of Validity**. It suggests that when making predictions using linear regression that we need to be careful about blanket application of the model. \n",
        " \n",
        "Next what we will do is look at the ratios of the beak shape. Once again we will use hacker statistics and bootstrap replicates. \n",
        " "
      ]
    },
    {
      "cell_type": "code",
      "metadata": {
        "colab": {
          "base_uri": "https://localhost:8080/"
        },
        "id": "MxHmg-wQnLD1",
        "outputId": "0277982a-3caf-4222-80a1-3bca6df39332"
      },
      "source": [
        "# Compute length-to-depth ratios\n",
        "ratio_1975 = np.array(bl_1975/bd_1975)\n",
        "ratio_2012 = np.array(bl_2012/bd_2012)\n",
        "\n",
        "# Compute means\n",
        "mean_ratio_1975 = ratio_1975.mean()\n",
        "mean_ratio_2012 = ratio_2012.mean()\n",
        "\n",
        "# Generate bootstrap replicates of the means\n",
        "bs_replicates_1975 = bs_reps(ratio_1975, np.mean, size=10000)\n",
        "bs_replicates_2012 = bs_reps(ratio_2012, np.mean, size=10000)\n",
        "\n",
        "# Compute the 99% confidence intervals\n",
        "conf_int_1975 = np.percentile(bs_replicates_1975, [0.5,99.5])\n",
        "conf_int_2012 = np.percentile(bs_replicates_2012, [0.5,99.5])\n",
        "\n",
        "# Print the results\n",
        "print('1975: mean ratio =', mean_ratio_1975,\n",
        "      'conf int =', conf_int_1975)\n",
        "print('2012: mean ratio =', mean_ratio_2012,\n",
        "      'conf int =', conf_int_2012)"
      ],
      "execution_count": null,
      "outputs": [
        {
          "output_type": "stream",
          "text": [
            "1975: mean ratio = 1.5788823771858533 conf int = [1.55725777 1.60043923]\n",
            "2012: mean ratio = 1.4658342276847767 conf int = [1.44517107 1.48806987]\n"
          ],
          "name": "stdout"
        }
      ]
    },
    {
      "cell_type": "markdown",
      "metadata": {
        "id": "uXSWMipUnLD1"
      },
      "source": [
        "There is a change in the beaks. As we can see the ratios are different. There is zero overlap in the confidence intervals. So we can confidently say there is a statistically significant difference between the beak ratios measured in 1975 and the beak ratios measured in 2012. \n",
        " \n",
        "But what is causing this change? \n",
        " \n",
        "A common hypothesis is that there was a drought. The Grants observed that in the late 70s this drought affected some of the plant life more than others. The trickle down effect is that even if the seed volume left on the ground remained constant the size of seeds changed. The larger seeds became more prevalent. This meant that some breeds of finches had a harder time. The smaller beaked varieties like the scandens had a harder time with the seeds. The larger beaked fortis were able to eat these seeds. And then we see Darwin's fundamental principle at work. The theory being that the Fortis were healthier and bred with the Scandens. The Fortis beaks were a dominant gene and the offspring took on the traits of the Fortis and left the Scandens smaller beaks behind. This is a logical conclusion, but let us see if the data proves this out or not. \n",
        " \n",
        "**Are the observed beak changes caused by heritability?**\n",
        " \n",
        "Note: heritability is a fancy genetics term with a meaning just like it sounds. Are the genetic traits being passed from parents to children?\n",
        " \n",
        "Thankfully, the Grants were very diligent about taking measurements and tagging birds. So we have reliable information about the heritage of the finches. Below you will see that I have placed the necessary data in arrays. Our first step is to visualize the data.  "
      ]
    },
    {
      "cell_type": "markdown",
      "metadata": {
        "id": "biYrLIJXwQFi"
      },
      "source": [
        "##### parent and offspring arrays"
      ]
    },
    {
      "cell_type": "code",
      "metadata": {
        "id": "yfnWqOPanLD2"
      },
      "source": [
        "bd_parent_scandens = np.array([ 8.3318,  8.4035,  8.5317,  8.7202,  8.7089,  8.7541,  8.773 , 8.8107,  8.7919,  8.8069,  8.6523,  8.6146,  8.6938,  8.7127, 8.7466,  8.7504,  8.7805,  8.7428,  8.7164,  8.8032,  8.8258, 8.856 ,  8.9012,  8.9125,  8.8635,  8.8258,  8.8522,  8.8974, 8.9427,  8.9879,  8.9615,  8.9238,  8.9351,  9.0143,  9.0558,\n",
        "        9.0596,  8.9917,  8.905 ,  8.9314,  8.9465,  8.9879,  8.9804, 9.0219,  9.052 ,  9.0407,  9.0407,  8.9955,  8.9992,  8.9992, 9.0747,  9.0747,  9.5385,  9.4781,  9.4517,  9.3537,  9.2707, 9.1199,  9.1689,  9.1425,  9.135 ,  9.1011,  9.1727,  9.2217, 9.2255,  9.2821,  9.3235,  9.3198,  9.3198,  9.3198,  9.3273,\n",
        "        9.3725,  9.3989,  9.4253,  9.4593,  9.4442,  9.4291,  9.2632, 9.2293,  9.1878,  9.1425,  9.1275,  9.1802,  9.1765,  9.2481, 9.2481,  9.1991,  9.1689,  9.1765,  9.2406,  9.3198,  9.3235, 9.1991,  9.2971,  9.2443,  9.316 ,  9.2934,  9.3914,  9.3989, 9.5121,  9.6176,  9.5535,  9.4668,  9.3725,  9.3348,  9.3763,\n",
        "        9.3839,  9.4216,  9.4065,  9.3348,  9.4442,  9.4367,  9.5083, 9.448 ,  9.4781,  9.595 ,  9.6101,  9.5686,  9.6365,  9.7119, 9.8213,  9.825 ,  9.7609,  9.6516,  9.5988,  9.546 ,  9.6516, 9.7572,  9.8854, 10.0023,  9.3914])\n",
        "\n",
        "bd_parent_fortis = np.array([10.1  ,  9.55 ,  9.4  , 10.25 , 10.125,  9.7  ,  9.05 ,  7.4  , 9.   ,  8.65 ,  9.625,  9.9  ,  9.55 ,  9.05 ,  8.35 , 10.1  , 10.1  ,  9.9  , 10.225, 10.   , 10.55 , 10.45 ,  9.2  , 10.2  , 8.95 , 10.05 , 10.2  ,  9.5  ,  9.925,  9.95 , 10.05 ,  8.75 , 9.2  , 10.15 ,  9.8  , 10.7  , 10.5  ,  9.55 , 10.55 , 10.475,\n",
        "        8.65 , 10.7  ,  9.1  ,  9.4  , 10.3  ,  9.65 ,  9.5  ,  9.7  , 10.525,  9.95 , 10.1  ,  9.75 , 10.05 ,  9.9  , 10.   ,  9.1  , 9.45 ,  9.25 ,  9.5  , 10.   , 10.525,  9.9  , 10.4  ,  8.95 , 9.4  , 10.95 , 10.75 , 10.1  ,  8.05 ,  9.1  ,  9.55 ,  9.05 , 10.2  , 10.   , 10.55 , 10.75 ,  8.175,  9.7  ,  8.8  , 10.75 ,\n",
        "        9.3  ,  9.7  ,  9.6  ,  9.75 ,  9.6  , 10.45 , 11.   , 10.85 , 10.15 , 10.35 , 10.4  ,  9.95 ,  9.1  , 10.1  ,  9.85 ,  9.625, 9.475,  9.   ,  9.25 ,  9.1  ,  9.25 ,  9.2  ,  9.95 ,  8.65 , 9.8  ,  9.4  ,  9.   ,  8.55 ,  8.75 ,  9.65 ,  8.95 ,  9.15 , 9.85 , 10.225,  9.825, 10.   ,  9.425, 10.4  ,  9.875,  8.95 ,\n",
        "        8.9  ,  9.35 , 10.425, 10.   , 10.175,  9.875,  9.875,  9.15 , 9.45 ,  9.025,  9.7  ,  9.7  , 10.05 , 10.3  ,  9.6  , 10.   , 9.8  , 10.05 ,  8.75 , 10.55 ,  9.7  , 10.   ,  9.85 ,  9.8  , 9.175,  9.65 ,  9.55 ,  9.9  , 11.55 , 11.3  , 10.4  , 10.8  , 9.8  , 10.45 , 10.   , 10.75 ,  9.35 , 10.75 ,  9.175,  9.65 ,\n",
        "        8.8  , 10.55 , 10.675,  9.95 ,  9.55 ,  8.825,  9.7  ,  9.85 , 9.8  ,  9.55 ,  9.275, 10.325,  9.15 ,  9.35 ,  9.15 ,  9.65 , 10.575,  9.975,  9.55 ,  9.2  ,  9.925,  9.2  ,  9.3  ,  8.775, 9.325,  9.175,  9.325,  8.975,  9.7  ,  9.5  , 10.225, 10.025, 8.2  ,  8.2  ,  9.55 ,  9.05 ,  9.6  ,  9.6  , 10.15 ,  9.875,\n",
        "        10.485, 11.485, 10.985,  9.7  ,  9.65 ,  9.35 , 10.05 , 10.1  , 9.9  ,  8.95 ,  9.3  ,  9.95 ,  9.45 ,  9.5  ,  8.45 ,  8.8  , 8.525,  9.375, 10.2  ,  7.625,  8.375,  9.25 ,  9.4  , 10.55 , 8.9  ,  8.8  ,  9.   ,  8.575,  8.575,  9.6  ,  9.375,  9.6  , 9.95 ,  9.6  , 10.2  ,  9.85 ,  9.625,  9.025, 10.375, 10.25 ,\n",
        "        9.3  ,  9.5  ,  9.55 ,  8.55 ,  9.05 ,  9.9  ,  9.8  ,  9.75 , 10.25 ,  9.1  ,  9.65 , 10.3  ,  8.9  ,  9.95 ,  9.5  ,  9.775, 9.425,  7.75 ,  7.55 ,  9.1  ,  9.6  ,  9.575,  8.95 ,  9.65 , 9.65 ,  9.65 ,  9.525,  9.85 ,  9.05 ,  9.3  ,  8.9  ,  9.45 , 10.   ,  9.85 ,  9.25 , 10.1  ,  9.125,  9.65 ,  9.1  ,  8.05 ,\n",
        "        7.4  ,  8.85 ,  9.075,  9.   ,  9.7  ,  8.7  ,  9.45 ,  9.7  , 8.35 ,  8.85 ,  9.7  ,  9.45 , 10.3  , 10.   , 10.45 ,  9.45 , 8.5  ,  8.3  , 10.   ,  9.225,  9.75 ,  9.15 ,  9.55 ,  9.   , 9.275,  9.35 ,  8.95 ,  9.875,  8.45 ,  8.6  ,  9.7  ,  8.55 , 9.05 ,  9.6  ,  8.65 ,  9.2  ,  8.95 ,  9.6  ,  9.15 ,  9.4  ,\n",
        "        8.95 ,  9.95 , 10.55 ,  9.7  ,  8.85 ,  8.8  , 10.   ,  9.05 , 8.2  ,  8.1  ,  7.25 ,  8.3  ,  9.15 ,  8.6  ,  9.5  ,  8.05 , 9.425,  9.3  ,  9.8  ,  9.3  ,  9.85 ,  9.5  ,  8.65 ,  9.825, 9.   , 10.45 ,  9.1  ,  9.55 ,  9.05 , 10.   ,  9.35 ,  8.375, 8.3  ,  8.8  , 10.1  ,  9.5  ,  9.75 , 10.1  ,  9.575,  9.425,\n",
        "        9.65 ,  8.725,  9.025,  8.5  ,  8.95 ,  9.3  ,  8.85 ,  8.95 , 9.8  ,  9.5  ,  8.65 ,  9.1  ,  9.4  ,  8.475,  9.35 ,  7.95 , 9.35 ,  8.575,  9.05 ,  8.175,  9.85 ,  7.85 ,  9.85 , 10.1  , 9.35 ,  8.85 ,  8.75 ,  9.625,  9.25 ,  9.55 , 10.325,  8.55 , 9.675,  9.15 ,  9.   ,  9.65 ,  8.6  ,  8.8  ,  9.   ,  9.95 ,\n",
        "        8.4  ,  9.35 , 10.3  ,  9.05 ,  9.975,  9.975,  8.65 ,  8.725, 8.2  ,  7.85 ,  8.775,  8.5  ,  9.4  ])\n",
        "\n",
        "\n",
        "bd_offspring_scandens = np.array([ 8.419 ,  9.2468,  8.1532,  8.0089,  8.2215,  8.3734,  8.5025, 8.6392,  8.7684,  8.8139,  8.7911,  8.9051,  8.9203,  8.8747, 8.943 ,  9.0038,  8.981 ,  9.0949,  9.2696,  9.1633,  9.1785, 9.1937,  9.2772,  9.0722,  8.9658,  8.9658,  8.5025,  8.4949, 8.4949,  8.5633,  8.6013,  8.6468,  8.1532,  8.3734,  8.662 ,\n",
        "        8.6924,  8.7456,  8.8367,  8.8595,  8.9658,  8.9582,  8.8671, 8.8671,  8.943 ,  9.0646,  9.1405,  9.2089,  9.2848,  9.3759, 9.4899,  9.4519,  8.1228,  8.2595,  8.3127,  8.4949,  8.6013, 8.4646,  8.5329,  8.7532,  8.8823,  9.0342,  8.6392,  8.6772, 8.6316,  8.7532,  8.8291,  8.8975,  8.9734,  9.0494,  9.1253,\n",
        "        9.1253,  9.1253,  9.1785,  9.2848,  9.4595,  9.3608,  9.2089, 9.2544,  9.3684,  9.3684,  9.2316,  9.1709,  9.2316,  9.0342, 8.8899,  8.8291,  8.981 ,  8.8975, 10.4089, 10.1886,  9.7633, 9.7329,  9.6114,  9.5051,  9.5127,  9.3684,  9.6266,  9.5354, 10.0215, 10.0215,  9.6266,  9.6038,  9.4063,  9.2316,  9.338 ,\n",
        "        9.262 ,  9.262 ,  9.4063,  9.4367,  9.0342,  8.943 ,  8.9203, 8.7835,  8.7835,  9.057 ,  8.9354,  8.8975,  8.8139,  8.8671, 9.0873,  9.2848,  9.2392,  9.2924,  9.4063,  9.3152,  9.4899, 9.5962,  9.6873,  9.5203,  9.6646])\n",
        "\n",
        "\n",
        "\n",
        "bd_offspring_fortis = np.array([10.7 ,  9.78,  9.48,  9.6 , 10.27,  9.5 ,  9.  ,  7.46,  7.65, 8.63,  9.81,  9.4 ,  9.48,  8.75,  7.6 , 10.  , 10.09,  9.74, 9.64,  8.49, 10.15, 10.28,  9.2 , 10.01,  9.03,  9.94, 10.5 , 9.7 , 10.02, 10.04,  9.43,  8.1 ,  9.5 ,  9.9 ,  9.48, 10.18, 10.16,  9.08, 10.39,  9.9 ,  8.4 , 10.6 ,  8.75,  9.46,  9.6 ,\n",
        "        9.6 ,  9.95, 10.05, 10.16, 10.1 ,  9.83,  9.46,  9.7 ,  9.82, 10.34,  8.02,  9.65,  9.87,  9.  , 11.14,  9.25,  8.14, 10.23, 8.7 ,  9.8 , 10.54, 11.19,  9.85,  8.1 ,  9.3 ,  9.34,  9.19, 9.52,  9.36,  8.8 ,  8.6 ,  8.  ,  8.5 ,  8.3 , 10.38,  8.54, 8.94, 10.  ,  9.76,  9.45,  9.89, 10.9 ,  9.91,  9.39,  9.86,\n",
        "        9.74,  9.9 ,  9.09,  9.69, 10.24,  8.9 ,  9.67,  8.93,  9.3 , 8.67,  9.15,  9.23,  9.59,  9.03,  9.58,  8.97,  8.57,  8.47, 8.71,  9.21,  9.13,  8.5 ,  9.58,  9.21,  9.6 ,  9.32,  8.7 , 10.46,  9.29,  9.24,  9.45,  9.35, 10.19,  9.91,  9.18,  9.89, 9.6 , 10.3 ,  9.45,  8.79,  9.2 ,  8.8 ,  9.69, 10.61,  9.6 ,\n",
        "        9.9 ,  9.26, 10.2 ,  8.79,  9.28,  8.83,  9.76, 10.2 ,  9.43, 9.4 ,  9.9 ,  9.5 ,  8.95,  9.98,  9.72,  9.86, 11.1 ,  9.14, 10.49,  9.75, 10.35,  9.73,  9.83,  8.69,  9.58,  8.42,  9.25, 10.12,  9.31,  9.99,  8.59,  8.74,  8.79,  9.6 ,  9.52,  8.93, 10.23,  9.35,  9.35,  9.09,  9.04,  9.75, 10.5 ,  9.09,  9.05,\n",
        "        9.54,  9.3 ,  9.06,  8.7 ,  9.32,  8.4 ,  8.67,  8.6 ,  9.53, 9.77,  9.65,  9.43,  8.35,  8.26,  9.5 ,  8.6 ,  9.57,  9.14, 10.79,  8.91,  9.93, 10.7 ,  9.3 ,  9.93,  9.51,  9.44, 10.05, 10.13,  9.24,  8.21,  8.9 ,  9.34,  8.77,  9.4 ,  8.82,  8.83, 8.6 ,  9.5 , 10.2 ,  8.09,  9.07,  9.29,  9.1 , 10.19,  9.25,\n",
        "        8.98,  9.02,  8.6 ,  8.25,  8.7 ,  9.9 ,  9.65,  9.45,  9.38, 10.4 ,  9.96,  9.46,  8.26, 10.05,  8.92,  9.5 ,  9.43,  8.97, 8.44,  8.92, 10.3 ,  8.4 ,  9.37,  9.91, 10.  ,  9.21,  9.95, 8.84,  9.82,  9.5 , 10.29,  8.4 ,  8.31,  9.29,  8.86,  9.4 , 9.62,  8.62,  8.3 ,  9.8 ,  8.48,  9.61,  9.5 ,  9.37,  8.74,\n",
        "        9.31,  9.5 ,  9.49,  9.74,  9.2 ,  9.24,  9.7 ,  9.64,  9.2 , 7.5 ,  7.5 ,  8.7 ,  8.31,  9.  ,  9.74,  9.31, 10.5 ,  9.3 , 8.12,  9.34,  9.72,  9.  ,  9.65,  9.9 , 10.  , 10.1 ,  8.  , 9.07,  9.75,  9.33,  8.11,  9.36,  9.74,  9.9 ,  9.23,  9.7 , 8.2 ,  9.35,  9.49,  9.34,  8.87,  9.03,  9.07,  9.43,  8.2 ,\n",
        "        9.19,  9.  ,  9.2 ,  9.06,  9.81,  8.89,  9.4 , 10.45,  9.64, 9.03,  8.71,  9.91,  8.33,  8.2 ,  7.83,  7.14,  8.91,  9.18, 8.8 ,  9.9 ,  7.73,  9.25,  8.7 ,  9.5 ,  9.3 ,  9.05, 10.18, 8.85,  9.24,  9.15,  9.98,  8.77,  9.8 ,  8.65, 10.  ,  8.81, 8.01,  7.9 ,  9.41, 10.18,  9.55,  9.08,  8.4 ,  9.75,  8.9 ,\n",
        "        9.07,  9.35,  8.9 ,  8.19,  8.65,  9.19,  8.9 ,  9.28, 10.58, 9.  ,  9.4 ,  8.91,  9.93, 10.  ,  9.37,  7.4 ,  9.  ,  8.8 , 9.18,  8.3 , 10.08,  7.9 ,  9.96, 10.4 ,  9.65,  8.8 ,  8.65, 9.7 ,  9.23,  9.43,  9.93,  8.47,  9.55,  9.28,  8.85,  8.9 , 8.75,  8.63,  9.  ,  9.43,  8.28,  9.23, 10.4 ,  9.  ,  9.8 , 9.77,  8.97,  8.37,  7.7 ,  7.9 ,  9.5 ,  8.2 ,  8.8 ])\n",
        "\n",
        "\n"
      ],
      "execution_count": null,
      "outputs": []
    },
    {
      "cell_type": "markdown",
      "metadata": {
        "id": "prKcPNIdwWP-"
      },
      "source": [
        "##### plotting heritability"
      ]
    },
    {
      "cell_type": "code",
      "metadata": {
        "colab": {
          "base_uri": "https://localhost:8080/",
          "height": 279
        },
        "id": "1b95dfT4nLD2",
        "outputId": "087e51f7-f896-4050-96fc-b06492c7be6a"
      },
      "source": [
        "# scatter plots\n",
        "plt.plot(bd_parent_fortis, bd_offspring_fortis, marker='.', linestyle='none', color='blue', alpha=0.5)\n",
        "plt.plot(bd_parent_scandens, bd_offspring_scandens, marker='.', linestyle='none', color='red', alpha=0.5)\n",
        "\n",
        "#  labels\n",
        "plt.xlabel('parental beak depth (mm)')\n",
        "plt.ylabel('offspring beak depth (mm)')\n",
        "\n",
        "# legend\n",
        "plt.legend(('G. fortis', 'G. scandens'), loc='best')\n",
        "\n",
        "# Show plot\n",
        "plt.show()"
      ],
      "execution_count": null,
      "outputs": [
        {
          "output_type": "display_data",
          "data": {
            "image/png": "[encoded data removed]",
            "text/plain": [
              "<Figure size 432x288 with 1 Axes>"
            ]
          },
          "metadata": {
            "tags": [],
            "needs_background": "light"
          }
        }
      ]
    },
    {
      "cell_type": "markdown",
      "metadata": {
        "id": "Ue7tn4KanLD2"
      },
      "source": [
        "The Fortis has a greater range of beak depths. But most importantly, it appears as though there is a stronger correlation than the Scandens. Next step is to quantify this observation. \n",
        " \n",
        "**linear regression vs. Pearson Correlation**\n",
        " \n",
        "Earlier when comparing the data from 1975 and 2012 we used a linear regression. We wanted to model both datasets and be able to compare them. This tool is best used when predicting one value given another or in our case looking for statistically significant change over time. However, here we want to know the strength and direction of the two variables. A pearson correlation is a much better fit for this type of problem. Below I have rewritten the function for bootstrapping to use pearson. "
      ]
    },
    {
      "cell_type": "code",
      "metadata": {
        "id": "ej9IVZW_nLD2"
      },
      "source": [
        "def bs_pairs_pear(x, y, size=1):\n",
        "\n",
        "    # Set up array of indices\n",
        "    inds = np.arange(len(x))\n",
        "\n",
        "    # Initialize replicates\n",
        "    replicates = np.empty(size)\n",
        "\n",
        "    # Generate replicates\n",
        "    for i in range(size):\n",
        "        bs_inds = np.random.choice(inds, size=len(inds))\n",
        "        bs_x, bs_y = x[bs_inds], y[bs_inds]\n",
        "        corr_mat = np.corrcoef(bs_x, bs_y)\n",
        "        replicates[i] = corr_mat[0,1]\n",
        "\n",
        "    return replicates"
      ],
      "execution_count": null,
      "outputs": []
    },
    {
      "cell_type": "code",
      "metadata": {
        "colab": {
          "base_uri": "https://localhost:8080/"
        },
        "id": "k3gU159snLD3",
        "outputId": "929caa65-9dc2-4086-c520-81034041180f"
      },
      "source": [
        "# Pearson correlation coefficients\n",
        "r_scandens = np.corrcoef(bd_parent_scandens, bd_offspring_scandens)\n",
        "r_fortis = np.corrcoef(bd_parent_fortis, bd_offspring_fortis)\n",
        "\n",
        "# 1000 bootstrap replicates using Pearson\n",
        "replicates_scandens = bs_pairs_pear(bd_parent_scandens, bd_offspring_scandens, size=1000)\n",
        "\n",
        "replicates_fortis = bs_pairs_pear(bd_parent_fortis, bd_offspring_fortis, size=1000)\n",
        "\n",
        "\n",
        "# confidence intervals\n",
        "conf_int_scandens = np.percentile(replicates_scandens, [2.5, 97.5])\n",
        "conf_int_fortis = np.percentile(replicates_fortis, [2.5, 97.5])\n",
        "\n",
        "print('G. scandens:', r_scandens[0,1], conf_int_scandens)\n",
        "print('G. fortis:', r_fortis[0,1], conf_int_fortis)"
      ],
      "execution_count": null,
      "outputs": [
        {
          "output_type": "stream",
          "text": [
            "G. scandens: 0.4117063629401258 [0.27563076 0.55080949]\n",
            "G. fortis: 0.7283412395518484 [0.66802568 0.77706182]\n"
          ],
          "name": "stdout"
        }
      ]
    },
    {
      "cell_type": "markdown",
      "metadata": {
        "id": "0vdBtITknLD3"
      },
      "source": [
        "Fortis clearly is more strongly correlated. We know these two variables move together. That is a great tool. But we are only halfway there. What we need to find now is the covariance. \n",
        " \n",
        "**Why Covariance**\n",
        " \n",
        "We know they move together. What more do we need to know? In this case we want to know the extent to which these two variables change in tandem. Covariance is a measure of correlation. In other words, we just found out that beak traits are heritable, not we want to know how heritable they are. "
      ]
    },
    {
      "cell_type": "code",
      "metadata": {
        "colab": {
          "base_uri": "https://localhost:8080/"
        },
        "id": "318VR9_7ufBx",
        "outputId": "e9955cee-0c51-45d9-e92a-537b8f9e0ca9"
      },
      "source": [
        "def bs_pairs_covariance(x, y, size=1):\r\n",
        "\r\n",
        "    # Set up array of indices\r\n",
        "    inds = np.arange(len(x))\r\n",
        "\r\n",
        "    # Initialize replicates\r\n",
        "    replicates = np.empty(size)\r\n",
        "\r\n",
        "    # Generate replicates\r\n",
        "    for i in range(size):\r\n",
        "        bs_inds = np.random.choice(inds, size=len(inds))\r\n",
        "        bs_x, bs_y = x[bs_inds], y[bs_inds]\r\n",
        "        cov_mat = np.cov(bs_x, bs_y)\r\n",
        "        replicates[i] = cov_mat[0,1] / cov_mat[0,0]\r\n",
        "\r\n",
        "    return replicates\r\n",
        "\r\n",
        "\r\n",
        "def cov_of_heritability(parents, offspring):\r\n",
        "  cov_matrix = np.cov(parents, offspring)\r\n",
        "  return cov_matrix[0,1] / cov_matrix[0,0]\r\n",
        "\r\n",
        "# Compute the heritability\r\n",
        "heritability_scandens = cov_of_heritability(bd_parent_scandens, bd_offspring_scandens)\r\n",
        "heritability_fortis = cov_of_heritability(bd_parent_fortis, bd_offspring_fortis)\r\n",
        "\r\n",
        "# replicants\r\n",
        "replicates_scandens = bs_pairs_covariance(bd_parent_scandens, bd_offspring_scandens, size=1000)\r\n",
        "        \r\n",
        "replicates_fortis = bs_pairs_covariance(bd_parent_fortis, bd_offspring_fortis, size=1000)\r\n",
        "\r\n",
        "#confidence intervals\r\n",
        "conf_int_scandens = np.percentile(replicates_scandens, [2.5,97.5])\r\n",
        "conf_int_fortis = np.percentile(replicates_fortis, [2.5,97.5])\r\n",
        "\r\n",
        "print('G. scandens:', heritability_scandens, conf_int_scandens)\r\n",
        "print('G. fortis:', heritability_fortis, conf_int_fortis)"
      ],
      "execution_count": null,
      "outputs": [
        {
          "output_type": "stream",
          "text": [
            "G. scandens: 0.5485340868685982 [0.34384003 0.75202098]\n",
            "G. fortis: 0.7229051911438156 [0.6523265  0.78976565]\n"
          ],
          "name": "stdout"
        }
      ]
    },
    {
      "cell_type": "markdown",
      "metadata": {
        "id": "8yqJvjyunLD3"
      },
      "source": [
        "Here we see that Fortis has stronger heritability. We could probably go one step further and say that some genetic trait in their beak size is a dominant gene. This is likely what we are seeing here. \n",
        " \n",
        "From a statistical standpoint this result is important and we only have one more step to go. The Pearson correlation is the coefficient of the ratio of a geometric mean of the variances of two sets of observations. Wow, that's a mouthful. But what is important is that when we do a pearson correlation that is not the full story. We need to step back and think about why we are seeing this correlation. And in some cases look at the covariance, like we have done here. \n",
        " \n",
        "Now, one last step. \n",
        " \n",
        "We are going to look at the p-value of our results. \n"
      ]
    },
    {
      "cell_type": "code",
      "metadata": {
        "colab": {
          "base_uri": "https://localhost:8080/"
        },
        "id": "dUguYAQjnLD3",
        "outputId": "22306ab6-b2b4-4a52-b6f7-021950cd5fd8"
      },
      "source": [
        "# Initialize array of replicates: perm_replicates\n",
        "perm_replicates = np.empty(1000000)\n",
        "\n",
        "# Draw replicates\n",
        "for i in range(1000000):\n",
        "    # Permute parent beak depths\n",
        "    bd_parent_permuted = np.random.permutation(bd_parent_scandens)\n",
        "    perm_replicates[i] = cov_of_heritability(bd_parent_permuted, bd_offspring_scandens)\n",
        "\n",
        "\n",
        "# Compute p-value: p\n",
        "p = np.sum(perm_replicates >= heritability_scandens) / len(perm_replicates)\n",
        "\n",
        "# Print the p-value\n",
        "print('p-val =', p)"
      ],
      "execution_count": null,
      "outputs": [
        {
          "output_type": "stream",
          "text": [
            "p-val = 0.0\n"
          ],
          "name": "stdout"
        }
      ]
    },
    {
      "cell_type": "markdown",
      "metadata": {
        "id": "w9u42b54nLD3"
      },
      "source": [
        "With a p-value of 0.0 we can say that this strongly suggests that the beak depth is a heritability trait. The fact that I pulled a million replicates and still have a p-value of 0 is impressive. \n"
      ]
    },
    {
      "cell_type": "code",
      "metadata": {
        "colab": {
          "base_uri": "https://localhost:8080/",
          "height": 295
        },
        "id": "PwNcJ2NFk9XG",
        "outputId": "68dcbb78-9593-427a-f50d-30fbee92690b"
      },
      "source": [
        "plt.hist(perm_replicates, bins=20)\r\n",
        "plt.axvline(heritability_scandens,color='r', label='Covariance of Heritability')\r\n",
        "plt.text(heritability_scandens,10000,'Observed Beak Ratios',rotation=90)\r\n",
        "plt.title('P-Value of Heritability')\r\n",
        "plt.xlabel('Covariance of Replicated Beak Ratios')\r\n",
        "plt.show()"
      ],
      "execution_count": null,
      "outputs": [
        {
          "output_type": "display_data",
          "data": {
            "image/png": "[encoded data removed]",
            "text/plain": [
              "<Figure size 432x288 with 1 Axes>"
            ]
          },
          "metadata": {
            "tags": [],
            "needs_background": "light"
          }
        }
      ]
    },
    {
      "cell_type": "markdown",
      "metadata": {
        "id": "mrkpRfJOnLD4"
      },
      "source": [
        "**So you are saying there's a chance?**\r\n",
        " \r\n",
        "This histogram takes the 1,000,000 permutations that we ran above. In plain english, we took this nearly 40 year period and pretended that the scandens were the only variety of finch on the island. And we ran the numbers a million times. What are the chances that we would see this beak ratio? \r\n",
        " \r\n",
        "The red line is our observed beak ratios. Which is well outside the million permutations that we ran. In other words there is **zero chance** that we would see this beak ratio without breeding with the Fortis. \r\n",
        " \r\n",
        " "
      ]
    },
    {
      "cell_type": "code",
      "metadata": {
        "id": "k_THmo49znXZ"
      },
      "source": [
        ""
      ],
      "execution_count": null,
      "outputs": []
    }
  ]
}